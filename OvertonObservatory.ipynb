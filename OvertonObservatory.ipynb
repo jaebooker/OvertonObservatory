{
 "cells": [
  {
   "cell_type": "code",
   "execution_count": 1,
   "metadata": {},
   "outputs": [],
   "source": [
    "# Pandas is a library for basic data analysis\n",
    "import pandas as pd\n",
    "\n",
    "# NumPy is a library for advanced mathematical computation\n",
    "import numpy as np\n",
    "\n",
    "# MatPlotLib is a library for basic data visualization\n",
    "import matplotlib.pyplot as plt\n",
    "\n",
    "# SeaBorn is a library for advanced data visualization\n",
    "import seaborn as sns"
   ]
  },
  {
   "cell_type": "code",
   "execution_count": 2,
   "metadata": {},
   "outputs": [],
   "source": [
    "sns.set(style=\"white\", context=\"notebook\", palette=\"deep\")\n",
    "\n",
    "COLOR_COLUMNS = [\"#66C2FF\", \"#5CD6D6\", \"#00CC99\", \"#85E085\", \"#FFD966\", \"#FFB366\", \"#FFB3B3\", \"#DAB3FF\", \"#C2C2D6\"]\n",
    "\n",
    "sns.set_palette(palette=COLOR_COLUMNS, n_colors=4)"
   ]
  },
  {
   "cell_type": "code",
   "execution_count": 3,
   "metadata": {},
   "outputs": [],
   "source": [
    "FILEPATH = \"poll-quiz-guns/guns-polls.csv\"\n",
    "\n",
    "df = pd.read_csv(FILEPATH)"
   ]
  },
  {
   "cell_type": "code",
   "execution_count": 4,
   "metadata": {},
   "outputs": [
    {
     "data": {
      "text/html": [
       "<div>\n",
       "<style scoped>\n",
       "    .dataframe tbody tr th:only-of-type {\n",
       "        vertical-align: middle;\n",
       "    }\n",
       "\n",
       "    .dataframe tbody tr th {\n",
       "        vertical-align: top;\n",
       "    }\n",
       "\n",
       "    .dataframe thead th {\n",
       "        text-align: right;\n",
       "    }\n",
       "</style>\n",
       "<table border=\"1\" class=\"dataframe\">\n",
       "  <thead>\n",
       "    <tr style=\"text-align: right;\">\n",
       "      <th></th>\n",
       "      <th>Question</th>\n",
       "      <th>Start</th>\n",
       "      <th>End</th>\n",
       "      <th>Pollster</th>\n",
       "      <th>Population</th>\n",
       "      <th>Support</th>\n",
       "      <th>Republican Support</th>\n",
       "      <th>Democratic Support</th>\n",
       "      <th>URL</th>\n",
       "    </tr>\n",
       "  </thead>\n",
       "  <tbody>\n",
       "    <tr>\n",
       "      <th>0</th>\n",
       "      <td>age-21</td>\n",
       "      <td>2/20/18</td>\n",
       "      <td>2/23/18</td>\n",
       "      <td>CNN/SSRS</td>\n",
       "      <td>Registered Voters</td>\n",
       "      <td>72</td>\n",
       "      <td>61</td>\n",
       "      <td>86</td>\n",
       "      <td>http://cdn.cnn.com/cnn/2018/images/02/25/rel3a...</td>\n",
       "    </tr>\n",
       "    <tr>\n",
       "      <th>1</th>\n",
       "      <td>age-21</td>\n",
       "      <td>2/27/18</td>\n",
       "      <td>2/28/18</td>\n",
       "      <td>NPR/Ipsos</td>\n",
       "      <td>Adults</td>\n",
       "      <td>82</td>\n",
       "      <td>72</td>\n",
       "      <td>92</td>\n",
       "      <td>https://www.ipsos.com/en-us/npripsos-poll-majo...</td>\n",
       "    </tr>\n",
       "    <tr>\n",
       "      <th>2</th>\n",
       "      <td>age-21</td>\n",
       "      <td>3/1/18</td>\n",
       "      <td>3/4/18</td>\n",
       "      <td>Rasmussen</td>\n",
       "      <td>Adults</td>\n",
       "      <td>67</td>\n",
       "      <td>59</td>\n",
       "      <td>76</td>\n",
       "      <td>http://www.rasmussenreports.com/public_content...</td>\n",
       "    </tr>\n",
       "    <tr>\n",
       "      <th>3</th>\n",
       "      <td>age-21</td>\n",
       "      <td>2/22/18</td>\n",
       "      <td>2/26/18</td>\n",
       "      <td>Harris Interactive</td>\n",
       "      <td>Registered Voters</td>\n",
       "      <td>84</td>\n",
       "      <td>77</td>\n",
       "      <td>92</td>\n",
       "      <td>http://thehill.com/opinion/civil-rights/375993...</td>\n",
       "    </tr>\n",
       "    <tr>\n",
       "      <th>4</th>\n",
       "      <td>age-21</td>\n",
       "      <td>3/3/18</td>\n",
       "      <td>3/5/18</td>\n",
       "      <td>Quinnipiac</td>\n",
       "      <td>Registered Voters</td>\n",
       "      <td>78</td>\n",
       "      <td>63</td>\n",
       "      <td>93</td>\n",
       "      <td>https://poll.qu.edu/national/release-detail?Re...</td>\n",
       "    </tr>\n",
       "    <tr>\n",
       "      <th>5</th>\n",
       "      <td>age-21</td>\n",
       "      <td>3/4/18</td>\n",
       "      <td>3/6/18</td>\n",
       "      <td>YouGov</td>\n",
       "      <td>Registered Voters</td>\n",
       "      <td>72</td>\n",
       "      <td>65</td>\n",
       "      <td>80</td>\n",
       "      <td>https://d25d2506sfb94s.cloudfront.net/cumulus_...</td>\n",
       "    </tr>\n",
       "    <tr>\n",
       "      <th>6</th>\n",
       "      <td>age-21</td>\n",
       "      <td>3/1/18</td>\n",
       "      <td>3/5/18</td>\n",
       "      <td>Morning Consult</td>\n",
       "      <td>Registered Voters</td>\n",
       "      <td>76</td>\n",
       "      <td>72</td>\n",
       "      <td>86</td>\n",
       "      <td>https://morningconsult.com/wp-content/uploads/...</td>\n",
       "    </tr>\n",
       "    <tr>\n",
       "      <th>7</th>\n",
       "      <td>arm-teachers</td>\n",
       "      <td>2/23/18</td>\n",
       "      <td>2/25/18</td>\n",
       "      <td>YouGov/Huffpost</td>\n",
       "      <td>Registered Voters</td>\n",
       "      <td>41</td>\n",
       "      <td>69</td>\n",
       "      <td>20</td>\n",
       "      <td>http://big.assets.huffingtonpost.com/tabsHPSaf...</td>\n",
       "    </tr>\n",
       "    <tr>\n",
       "      <th>8</th>\n",
       "      <td>arm-teachers</td>\n",
       "      <td>2/20/18</td>\n",
       "      <td>2/23/18</td>\n",
       "      <td>CBS News</td>\n",
       "      <td>Adults</td>\n",
       "      <td>44</td>\n",
       "      <td>68</td>\n",
       "      <td>20</td>\n",
       "      <td>https://drive.google.com/file/d/0ByVu4fDHYJgVb...</td>\n",
       "    </tr>\n",
       "    <tr>\n",
       "      <th>9</th>\n",
       "      <td>arm-teachers</td>\n",
       "      <td>2/27/18</td>\n",
       "      <td>2/28/18</td>\n",
       "      <td>Rasmussen</td>\n",
       "      <td>Adults</td>\n",
       "      <td>43</td>\n",
       "      <td>71</td>\n",
       "      <td>24</td>\n",
       "      <td>http://www.rasmussenreports.com/public_content...</td>\n",
       "    </tr>\n",
       "    <tr>\n",
       "      <th>10</th>\n",
       "      <td>arm-teachers</td>\n",
       "      <td>2/27/18</td>\n",
       "      <td>2/28/18</td>\n",
       "      <td>NPR/Ipsos</td>\n",
       "      <td>Adults</td>\n",
       "      <td>41</td>\n",
       "      <td>68</td>\n",
       "      <td>18</td>\n",
       "      <td>https://www.ipsos.com/en-us/npripsos-poll-majo...</td>\n",
       "    </tr>\n",
       "    <tr>\n",
       "      <th>11</th>\n",
       "      <td>arm-teachers</td>\n",
       "      <td>3/3/18</td>\n",
       "      <td>3/5/18</td>\n",
       "      <td>Quinnipiac</td>\n",
       "      <td>Registered Voters</td>\n",
       "      <td>40</td>\n",
       "      <td>77</td>\n",
       "      <td>10</td>\n",
       "      <td>https://poll.qu.edu/national/release-detail?Re...</td>\n",
       "    </tr>\n",
       "    <tr>\n",
       "      <th>12</th>\n",
       "      <td>arm-teachers</td>\n",
       "      <td>2/26/18</td>\n",
       "      <td>2/28/18</td>\n",
       "      <td>SurveyMonkey</td>\n",
       "      <td>Registered Voters</td>\n",
       "      <td>43</td>\n",
       "      <td>80</td>\n",
       "      <td>11</td>\n",
       "      <td>https://www.nbcnews.com/politics/politics-news...</td>\n",
       "    </tr>\n",
       "    <tr>\n",
       "      <th>13</th>\n",
       "      <td>background-checks</td>\n",
       "      <td>2/16/18</td>\n",
       "      <td>2/19/18</td>\n",
       "      <td>Quinnipiac</td>\n",
       "      <td>Registered Voters</td>\n",
       "      <td>97</td>\n",
       "      <td>97</td>\n",
       "      <td>99</td>\n",
       "      <td>https://poll.qu.edu/images/polling/us/us022020...</td>\n",
       "    </tr>\n",
       "    <tr>\n",
       "      <th>14</th>\n",
       "      <td>background-checks</td>\n",
       "      <td>2/18/18</td>\n",
       "      <td>2/20/18</td>\n",
       "      <td>YouGov</td>\n",
       "      <td>Registered Voters</td>\n",
       "      <td>85</td>\n",
       "      <td>78</td>\n",
       "      <td>87</td>\n",
       "      <td>https://d25d2506sfb94s.cloudfront.net/cumulus_...</td>\n",
       "    </tr>\n",
       "    <tr>\n",
       "      <th>15</th>\n",
       "      <td>background-checks</td>\n",
       "      <td>2/25/18</td>\n",
       "      <td>2/27/18</td>\n",
       "      <td>YouGov</td>\n",
       "      <td>Registered Voters</td>\n",
       "      <td>83</td>\n",
       "      <td>76</td>\n",
       "      <td>91</td>\n",
       "      <td>https://d25d2506sfb94s.cloudfront.net/cumulus_...</td>\n",
       "    </tr>\n",
       "    <tr>\n",
       "      <th>16</th>\n",
       "      <td>background-checks</td>\n",
       "      <td>2/15/18</td>\n",
       "      <td>2/19/18</td>\n",
       "      <td>Morning Consult</td>\n",
       "      <td>Registered Voters</td>\n",
       "      <td>88</td>\n",
       "      <td>88</td>\n",
       "      <td>90</td>\n",
       "      <td>https://morningconsult.com/wp-content/uploads/...</td>\n",
       "    </tr>\n",
       "    <tr>\n",
       "      <th>17</th>\n",
       "      <td>background-checks</td>\n",
       "      <td>2/20/18</td>\n",
       "      <td>2/23/18</td>\n",
       "      <td>CBS News</td>\n",
       "      <td>Adults</td>\n",
       "      <td>75</td>\n",
       "      <td>66</td>\n",
       "      <td>86</td>\n",
       "      <td>https://drive.google.com/file/d/0ByVu4fDHYJgVb...</td>\n",
       "    </tr>\n",
       "    <tr>\n",
       "      <th>18</th>\n",
       "      <td>background-checks</td>\n",
       "      <td>2/27/18</td>\n",
       "      <td>2/28/18</td>\n",
       "      <td>NPR/Ipsos</td>\n",
       "      <td>Adults</td>\n",
       "      <td>94</td>\n",
       "      <td>89</td>\n",
       "      <td>99</td>\n",
       "      <td>https://www.ipsos.com/en-us/npripsos-poll-majo...</td>\n",
       "    </tr>\n",
       "    <tr>\n",
       "      <th>19</th>\n",
       "      <td>background-checks</td>\n",
       "      <td>3/1/18</td>\n",
       "      <td>3/5/18</td>\n",
       "      <td>Morning Consult</td>\n",
       "      <td>Registered Voters</td>\n",
       "      <td>90</td>\n",
       "      <td>91</td>\n",
       "      <td>91</td>\n",
       "      <td>https://morningconsult.com/wp-content/uploads/...</td>\n",
       "    </tr>\n",
       "    <tr>\n",
       "      <th>20</th>\n",
       "      <td>ban-assault-weapons</td>\n",
       "      <td>2/16/18</td>\n",
       "      <td>2/19/18</td>\n",
       "      <td>Quinnipiac</td>\n",
       "      <td>Registered Voters</td>\n",
       "      <td>67</td>\n",
       "      <td>43</td>\n",
       "      <td>91</td>\n",
       "      <td>https://poll.qu.edu/images/polling/us/us022020...</td>\n",
       "    </tr>\n",
       "    <tr>\n",
       "      <th>21</th>\n",
       "      <td>ban-assault-weapons</td>\n",
       "      <td>2/18/18</td>\n",
       "      <td>2/20/18</td>\n",
       "      <td>YouGov</td>\n",
       "      <td>Registered Voters</td>\n",
       "      <td>61</td>\n",
       "      <td>45</td>\n",
       "      <td>79</td>\n",
       "      <td>https://d25d2506sfb94s.cloudfront.net/cumulus_...</td>\n",
       "    </tr>\n",
       "    <tr>\n",
       "      <th>22</th>\n",
       "      <td>ban-assault-weapons</td>\n",
       "      <td>2/25/18</td>\n",
       "      <td>2/27/18</td>\n",
       "      <td>YouGov</td>\n",
       "      <td>Registered Voters</td>\n",
       "      <td>58</td>\n",
       "      <td>37</td>\n",
       "      <td>82</td>\n",
       "      <td>https://d25d2506sfb94s.cloudfront.net/cumulus_...</td>\n",
       "    </tr>\n",
       "    <tr>\n",
       "      <th>23</th>\n",
       "      <td>ban-assault-weapons</td>\n",
       "      <td>2/15/18</td>\n",
       "      <td>2/19/18</td>\n",
       "      <td>Morning Consult</td>\n",
       "      <td>Registered Voters</td>\n",
       "      <td>69</td>\n",
       "      <td>64</td>\n",
       "      <td>81</td>\n",
       "      <td>https://morningconsult.com/wp-content/uploads/...</td>\n",
       "    </tr>\n",
       "    <tr>\n",
       "      <th>24</th>\n",
       "      <td>ban-assault-weapons</td>\n",
       "      <td>2/15/18</td>\n",
       "      <td>2/18/18</td>\n",
       "      <td>ABC/Washington Post</td>\n",
       "      <td>Registered Voters</td>\n",
       "      <td>51</td>\n",
       "      <td>29</td>\n",
       "      <td>71</td>\n",
       "      <td>https://www.washingtonpost.com/page/2010-2019/...</td>\n",
       "    </tr>\n",
       "    <tr>\n",
       "      <th>25</th>\n",
       "      <td>ban-assault-weapons</td>\n",
       "      <td>2/20/18</td>\n",
       "      <td>2/23/18</td>\n",
       "      <td>CNN/SSRS</td>\n",
       "      <td>Registered Voters</td>\n",
       "      <td>57</td>\n",
       "      <td>34</td>\n",
       "      <td>80</td>\n",
       "      <td>http://cdn.cnn.com/cnn/2018/images/02/25/rel3a...</td>\n",
       "    </tr>\n",
       "    <tr>\n",
       "      <th>26</th>\n",
       "      <td>ban-assault-weapons</td>\n",
       "      <td>2/20/18</td>\n",
       "      <td>2/23/18</td>\n",
       "      <td>CBS News</td>\n",
       "      <td>Adults</td>\n",
       "      <td>53</td>\n",
       "      <td>39</td>\n",
       "      <td>66</td>\n",
       "      <td>https://drive.google.com/file/d/0ByVu4fDHYJgVb...</td>\n",
       "    </tr>\n",
       "    <tr>\n",
       "      <th>27</th>\n",
       "      <td>ban-assault-weapons</td>\n",
       "      <td>2/16/18</td>\n",
       "      <td>2/19/18</td>\n",
       "      <td>Harvard/Harris</td>\n",
       "      <td>Registered Voters</td>\n",
       "      <td>61</td>\n",
       "      <td>43</td>\n",
       "      <td>76</td>\n",
       "      <td>http://harvardharrispoll.com/wp-content/upload...</td>\n",
       "    </tr>\n",
       "    <tr>\n",
       "      <th>28</th>\n",
       "      <td>ban-assault-weapons</td>\n",
       "      <td>2/20/18</td>\n",
       "      <td>2/24/18</td>\n",
       "      <td>Suffolk</td>\n",
       "      <td>Registered Voters</td>\n",
       "      <td>63</td>\n",
       "      <td>40</td>\n",
       "      <td>83</td>\n",
       "      <td>http://www.suffolk.edu/documents/SUPRC/3_1_201...</td>\n",
       "    </tr>\n",
       "    <tr>\n",
       "      <th>29</th>\n",
       "      <td>ban-assault-weapons</td>\n",
       "      <td>2/27/18</td>\n",
       "      <td>2/28/18</td>\n",
       "      <td>NPR/Ipsos</td>\n",
       "      <td>Adults</td>\n",
       "      <td>72</td>\n",
       "      <td>58</td>\n",
       "      <td>88</td>\n",
       "      <td>https://www.ipsos.com/en-us/npripsos-poll-majo...</td>\n",
       "    </tr>\n",
       "    <tr>\n",
       "      <th>30</th>\n",
       "      <td>ban-assault-weapons</td>\n",
       "      <td>3/3/18</td>\n",
       "      <td>3/5/18</td>\n",
       "      <td>Quinnipiac</td>\n",
       "      <td>Registered Voters</td>\n",
       "      <td>61</td>\n",
       "      <td>38</td>\n",
       "      <td>88</td>\n",
       "      <td>https://poll.qu.edu/national/release-detail?Re...</td>\n",
       "    </tr>\n",
       "    <tr>\n",
       "      <th>31</th>\n",
       "      <td>ban-assault-weapons</td>\n",
       "      <td>3/1/18</td>\n",
       "      <td>3/5/18</td>\n",
       "      <td>Morning Consult</td>\n",
       "      <td>Registered Voters</td>\n",
       "      <td>68</td>\n",
       "      <td>41</td>\n",
       "      <td>83</td>\n",
       "      <td>https://morningconsult.com/wp-content/uploads/...</td>\n",
       "    </tr>\n",
       "    <tr>\n",
       "      <th>32</th>\n",
       "      <td>ban-high-capacity-magazines</td>\n",
       "      <td>2/18/18</td>\n",
       "      <td>2/20/18</td>\n",
       "      <td>YouGov</td>\n",
       "      <td>Registered Voters</td>\n",
       "      <td>67</td>\n",
       "      <td>52</td>\n",
       "      <td>82</td>\n",
       "      <td>https://d25d2506sfb94s.cloudfront.net/cumulus_...</td>\n",
       "    </tr>\n",
       "    <tr>\n",
       "      <th>33</th>\n",
       "      <td>ban-high-capacity-magazines</td>\n",
       "      <td>2/25/18</td>\n",
       "      <td>2/27/18</td>\n",
       "      <td>YouGov</td>\n",
       "      <td>Registered Voters</td>\n",
       "      <td>64</td>\n",
       "      <td>44</td>\n",
       "      <td>82</td>\n",
       "      <td>https://d25d2506sfb94s.cloudfront.net/cumulus_...</td>\n",
       "    </tr>\n",
       "    <tr>\n",
       "      <th>34</th>\n",
       "      <td>ban-high-capacity-magazines</td>\n",
       "      <td>2/15/18</td>\n",
       "      <td>2/19/18</td>\n",
       "      <td>Morning Consult</td>\n",
       "      <td>Registered Voters</td>\n",
       "      <td>69</td>\n",
       "      <td>63</td>\n",
       "      <td>82</td>\n",
       "      <td>https://morningconsult.com/wp-content/uploads/...</td>\n",
       "    </tr>\n",
       "    <tr>\n",
       "      <th>35</th>\n",
       "      <td>ban-high-capacity-magazines</td>\n",
       "      <td>2/20/18</td>\n",
       "      <td>2/23/18</td>\n",
       "      <td>CNN/SSRS</td>\n",
       "      <td>Registered Voters</td>\n",
       "      <td>64</td>\n",
       "      <td>48</td>\n",
       "      <td>82</td>\n",
       "      <td>http://cdn.cnn.com/cnn/2018/images/02/25/rel3a...</td>\n",
       "    </tr>\n",
       "    <tr>\n",
       "      <th>36</th>\n",
       "      <td>ban-high-capacity-magazines</td>\n",
       "      <td>2/27/18</td>\n",
       "      <td>2/28/18</td>\n",
       "      <td>NPR/Ipsos</td>\n",
       "      <td>Adults</td>\n",
       "      <td>73</td>\n",
       "      <td>59</td>\n",
       "      <td>88</td>\n",
       "      <td>https://www.ipsos.com/en-us/npripsos-poll-majo...</td>\n",
       "    </tr>\n",
       "    <tr>\n",
       "      <th>37</th>\n",
       "      <td>ban-high-capacity-magazines</td>\n",
       "      <td>3/3/18</td>\n",
       "      <td>3/5/18</td>\n",
       "      <td>Quinnipiac</td>\n",
       "      <td>Registered Voters</td>\n",
       "      <td>63</td>\n",
       "      <td>39</td>\n",
       "      <td>87</td>\n",
       "      <td>https://poll.qu.edu/national/release-detail?Re...</td>\n",
       "    </tr>\n",
       "    <tr>\n",
       "      <th>38</th>\n",
       "      <td>ban-high-capacity-magazines</td>\n",
       "      <td>3/1/18</td>\n",
       "      <td>3/5/18</td>\n",
       "      <td>Morning Consult</td>\n",
       "      <td>Registered Voters</td>\n",
       "      <td>71</td>\n",
       "      <td>64</td>\n",
       "      <td>84</td>\n",
       "      <td>https://morningconsult.com/wp-content/uploads/...</td>\n",
       "    </tr>\n",
       "    <tr>\n",
       "      <th>39</th>\n",
       "      <td>mental-health-own-gun</td>\n",
       "      <td>2/18/18</td>\n",
       "      <td>2/20/18</td>\n",
       "      <td>YouGov</td>\n",
       "      <td>Registered Voters</td>\n",
       "      <td>87</td>\n",
       "      <td>87</td>\n",
       "      <td>84</td>\n",
       "      <td>https://d25d2506sfb94s.cloudfront.net/cumulus_...</td>\n",
       "    </tr>\n",
       "    <tr>\n",
       "      <th>40</th>\n",
       "      <td>mental-health-own-gun</td>\n",
       "      <td>2/25/18</td>\n",
       "      <td>2/27/18</td>\n",
       "      <td>YouGov</td>\n",
       "      <td>Registered Voters</td>\n",
       "      <td>84</td>\n",
       "      <td>81</td>\n",
       "      <td>86</td>\n",
       "      <td>https://d25d2506sfb94s.cloudfront.net/cumulus_...</td>\n",
       "    </tr>\n",
       "    <tr>\n",
       "      <th>41</th>\n",
       "      <td>mental-health-own-gun</td>\n",
       "      <td>2/15/18</td>\n",
       "      <td>2/19/18</td>\n",
       "      <td>Morning Consult</td>\n",
       "      <td>Registered Voters</td>\n",
       "      <td>88</td>\n",
       "      <td>89</td>\n",
       "      <td>90</td>\n",
       "      <td>https://morningconsult.com/wp-content/uploads/...</td>\n",
       "    </tr>\n",
       "    <tr>\n",
       "      <th>42</th>\n",
       "      <td>mental-health-own-gun</td>\n",
       "      <td>2/20/18</td>\n",
       "      <td>2/24/18</td>\n",
       "      <td>Suffolk</td>\n",
       "      <td>Registered Voters</td>\n",
       "      <td>76</td>\n",
       "      <td>84</td>\n",
       "      <td>78</td>\n",
       "      <td>http://www.suffolk.edu/documents/SUPRC/3_1_201...</td>\n",
       "    </tr>\n",
       "    <tr>\n",
       "      <th>43</th>\n",
       "      <td>mental-health-own-gun</td>\n",
       "      <td>2/27/18</td>\n",
       "      <td>2/28/18</td>\n",
       "      <td>NPR/Ipsos</td>\n",
       "      <td>Adults</td>\n",
       "      <td>92</td>\n",
       "      <td>88</td>\n",
       "      <td>96</td>\n",
       "      <td>https://www.ipsos.com/en-us/npripsos-poll-majo...</td>\n",
       "    </tr>\n",
       "    <tr>\n",
       "      <th>44</th>\n",
       "      <td>mental-health-own-gun</td>\n",
       "      <td>3/1/18</td>\n",
       "      <td>3/5/18</td>\n",
       "      <td>Morning Consult</td>\n",
       "      <td>Registered Voters</td>\n",
       "      <td>88</td>\n",
       "      <td>91</td>\n",
       "      <td>91</td>\n",
       "      <td>https://morningconsult.com/wp-content/uploads/...</td>\n",
       "    </tr>\n",
       "    <tr>\n",
       "      <th>45</th>\n",
       "      <td>repeal-2nd-amendment</td>\n",
       "      <td>2/20/18</td>\n",
       "      <td>2/23/18</td>\n",
       "      <td>CNN/SSRS</td>\n",
       "      <td>Registered Voters</td>\n",
       "      <td>10</td>\n",
       "      <td>5</td>\n",
       "      <td>15</td>\n",
       "      <td>http://cdn.cnn.com/cnn/2018/images/02/25/rel3a...</td>\n",
       "    </tr>\n",
       "    <tr>\n",
       "      <th>46</th>\n",
       "      <td>stricter-gun-laws</td>\n",
       "      <td>2/27/18</td>\n",
       "      <td>2/28/18</td>\n",
       "      <td>NPR/Ipsos</td>\n",
       "      <td>Adults</td>\n",
       "      <td>75</td>\n",
       "      <td>59</td>\n",
       "      <td>92</td>\n",
       "      <td>https://www.ipsos.com/en-us/npripsos-poll-majo...</td>\n",
       "    </tr>\n",
       "    <tr>\n",
       "      <th>47</th>\n",
       "      <td>stricter-gun-laws</td>\n",
       "      <td>2/25/18</td>\n",
       "      <td>2/27/18</td>\n",
       "      <td>YouGov</td>\n",
       "      <td>Registered Voters</td>\n",
       "      <td>63</td>\n",
       "      <td>43</td>\n",
       "      <td>87</td>\n",
       "      <td>https://d25d2506sfb94s.cloudfront.net/cumulus_...</td>\n",
       "    </tr>\n",
       "    <tr>\n",
       "      <th>48</th>\n",
       "      <td>stricter-gun-laws</td>\n",
       "      <td>2/20/18</td>\n",
       "      <td>2/23/18</td>\n",
       "      <td>CNN/SSRS</td>\n",
       "      <td>Registered Voters</td>\n",
       "      <td>70</td>\n",
       "      <td>49</td>\n",
       "      <td>93</td>\n",
       "      <td>http://cdn.cnn.com/cnn/2018/images/02/25/rel3a...</td>\n",
       "    </tr>\n",
       "    <tr>\n",
       "      <th>49</th>\n",
       "      <td>stricter-gun-laws</td>\n",
       "      <td>2/20/18</td>\n",
       "      <td>2/23/18</td>\n",
       "      <td>CBS News</td>\n",
       "      <td>Adults</td>\n",
       "      <td>65</td>\n",
       "      <td>43</td>\n",
       "      <td>85</td>\n",
       "      <td>https://drive.google.com/file/d/0ByVu4fDHYJgVb...</td>\n",
       "    </tr>\n",
       "    <tr>\n",
       "      <th>50</th>\n",
       "      <td>stricter-gun-laws</td>\n",
       "      <td>2/20/18</td>\n",
       "      <td>2/21/18</td>\n",
       "      <td>Marist</td>\n",
       "      <td>Registered Voters</td>\n",
       "      <td>73</td>\n",
       "      <td>55</td>\n",
       "      <td>93</td>\n",
       "      <td>http://maristpoll.marist.edu/wp-content/misc/u...</td>\n",
       "    </tr>\n",
       "    <tr>\n",
       "      <th>51</th>\n",
       "      <td>stricter-gun-laws</td>\n",
       "      <td>2/18/18</td>\n",
       "      <td>2/20/18</td>\n",
       "      <td>YouGov</td>\n",
       "      <td>Registered Voters</td>\n",
       "      <td>58</td>\n",
       "      <td>36</td>\n",
       "      <td>76</td>\n",
       "      <td>https://d25d2506sfb94s.cloudfront.net/cumulus_...</td>\n",
       "    </tr>\n",
       "    <tr>\n",
       "      <th>52</th>\n",
       "      <td>stricter-gun-laws</td>\n",
       "      <td>2/16/18</td>\n",
       "      <td>2/19/18</td>\n",
       "      <td>Quinnipiac</td>\n",
       "      <td>Registered Voters</td>\n",
       "      <td>66</td>\n",
       "      <td>34</td>\n",
       "      <td>86</td>\n",
       "      <td>https://poll.qu.edu/images/polling/us/us022020...</td>\n",
       "    </tr>\n",
       "    <tr>\n",
       "      <th>53</th>\n",
       "      <td>stricter-gun-laws</td>\n",
       "      <td>2/22/18</td>\n",
       "      <td>2/26/18</td>\n",
       "      <td>Morning Consult</td>\n",
       "      <td>Registered Voters</td>\n",
       "      <td>68</td>\n",
       "      <td>53</td>\n",
       "      <td>89</td>\n",
       "      <td>https://morningconsult.com/wp-content/uploads/...</td>\n",
       "    </tr>\n",
       "    <tr>\n",
       "      <th>54</th>\n",
       "      <td>stricter-gun-laws</td>\n",
       "      <td>3/3/18</td>\n",
       "      <td>3/5/18</td>\n",
       "      <td>Quinnipiac</td>\n",
       "      <td>Registered Voters</td>\n",
       "      <td>63</td>\n",
       "      <td>39</td>\n",
       "      <td>88</td>\n",
       "      <td>https://poll.qu.edu/national/release-detail?Re...</td>\n",
       "    </tr>\n",
       "    <tr>\n",
       "      <th>55</th>\n",
       "      <td>stricter-gun-laws</td>\n",
       "      <td>3/4/18</td>\n",
       "      <td>3/6/18</td>\n",
       "      <td>YouGov</td>\n",
       "      <td>Registered Voters</td>\n",
       "      <td>61</td>\n",
       "      <td>42</td>\n",
       "      <td>82</td>\n",
       "      <td>https://d25d2506sfb94s.cloudfront.net/cumulus_...</td>\n",
       "    </tr>\n",
       "    <tr>\n",
       "      <th>56</th>\n",
       "      <td>stricter-gun-laws</td>\n",
       "      <td>3/1/18</td>\n",
       "      <td>3/5/18</td>\n",
       "      <td>Morning Consult</td>\n",
       "      <td>Registered Voters</td>\n",
       "      <td>69</td>\n",
       "      <td>57</td>\n",
       "      <td>85</td>\n",
       "      <td>https://morningconsult.com/wp-content/uploads/...</td>\n",
       "    </tr>\n",
       "  </tbody>\n",
       "</table>\n",
       "</div>"
      ],
      "text/plain": [
       "                       Question    Start      End             Pollster  \\\n",
       "0                        age-21  2/20/18  2/23/18             CNN/SSRS   \n",
       "1                        age-21  2/27/18  2/28/18            NPR/Ipsos   \n",
       "2                        age-21   3/1/18   3/4/18            Rasmussen   \n",
       "3                        age-21  2/22/18  2/26/18   Harris Interactive   \n",
       "4                        age-21   3/3/18   3/5/18           Quinnipiac   \n",
       "5                        age-21   3/4/18   3/6/18               YouGov   \n",
       "6                        age-21   3/1/18   3/5/18      Morning Consult   \n",
       "7                  arm-teachers  2/23/18  2/25/18      YouGov/Huffpost   \n",
       "8                  arm-teachers  2/20/18  2/23/18             CBS News   \n",
       "9                  arm-teachers  2/27/18  2/28/18            Rasmussen   \n",
       "10                 arm-teachers  2/27/18  2/28/18            NPR/Ipsos   \n",
       "11                 arm-teachers   3/3/18   3/5/18           Quinnipiac   \n",
       "12                 arm-teachers  2/26/18  2/28/18         SurveyMonkey   \n",
       "13            background-checks  2/16/18  2/19/18           Quinnipiac   \n",
       "14            background-checks  2/18/18  2/20/18               YouGov   \n",
       "15            background-checks  2/25/18  2/27/18               YouGov   \n",
       "16            background-checks  2/15/18  2/19/18      Morning Consult   \n",
       "17            background-checks  2/20/18  2/23/18             CBS News   \n",
       "18            background-checks  2/27/18  2/28/18            NPR/Ipsos   \n",
       "19            background-checks   3/1/18   3/5/18      Morning Consult   \n",
       "20          ban-assault-weapons  2/16/18  2/19/18           Quinnipiac   \n",
       "21          ban-assault-weapons  2/18/18  2/20/18               YouGov   \n",
       "22          ban-assault-weapons  2/25/18  2/27/18               YouGov   \n",
       "23          ban-assault-weapons  2/15/18  2/19/18      Morning Consult   \n",
       "24          ban-assault-weapons  2/15/18  2/18/18  ABC/Washington Post   \n",
       "25          ban-assault-weapons  2/20/18  2/23/18             CNN/SSRS   \n",
       "26          ban-assault-weapons  2/20/18  2/23/18             CBS News   \n",
       "27          ban-assault-weapons  2/16/18  2/19/18       Harvard/Harris   \n",
       "28          ban-assault-weapons  2/20/18  2/24/18              Suffolk   \n",
       "29          ban-assault-weapons  2/27/18  2/28/18            NPR/Ipsos   \n",
       "30          ban-assault-weapons   3/3/18   3/5/18           Quinnipiac   \n",
       "31          ban-assault-weapons   3/1/18   3/5/18      Morning Consult   \n",
       "32  ban-high-capacity-magazines  2/18/18  2/20/18               YouGov   \n",
       "33  ban-high-capacity-magazines  2/25/18  2/27/18               YouGov   \n",
       "34  ban-high-capacity-magazines  2/15/18  2/19/18      Morning Consult   \n",
       "35  ban-high-capacity-magazines  2/20/18  2/23/18             CNN/SSRS   \n",
       "36  ban-high-capacity-magazines  2/27/18  2/28/18            NPR/Ipsos   \n",
       "37  ban-high-capacity-magazines   3/3/18   3/5/18           Quinnipiac   \n",
       "38  ban-high-capacity-magazines   3/1/18   3/5/18      Morning Consult   \n",
       "39        mental-health-own-gun  2/18/18  2/20/18               YouGov   \n",
       "40        mental-health-own-gun  2/25/18  2/27/18               YouGov   \n",
       "41        mental-health-own-gun  2/15/18  2/19/18      Morning Consult   \n",
       "42        mental-health-own-gun  2/20/18  2/24/18              Suffolk   \n",
       "43        mental-health-own-gun  2/27/18  2/28/18            NPR/Ipsos   \n",
       "44        mental-health-own-gun   3/1/18   3/5/18      Morning Consult   \n",
       "45         repeal-2nd-amendment  2/20/18  2/23/18             CNN/SSRS   \n",
       "46            stricter-gun-laws  2/27/18  2/28/18            NPR/Ipsos   \n",
       "47            stricter-gun-laws  2/25/18  2/27/18               YouGov   \n",
       "48            stricter-gun-laws  2/20/18  2/23/18             CNN/SSRS   \n",
       "49            stricter-gun-laws  2/20/18  2/23/18             CBS News   \n",
       "50            stricter-gun-laws  2/20/18  2/21/18               Marist   \n",
       "51            stricter-gun-laws  2/18/18  2/20/18               YouGov   \n",
       "52            stricter-gun-laws  2/16/18  2/19/18           Quinnipiac   \n",
       "53            stricter-gun-laws  2/22/18  2/26/18      Morning Consult   \n",
       "54            stricter-gun-laws   3/3/18   3/5/18           Quinnipiac   \n",
       "55            stricter-gun-laws   3/4/18   3/6/18               YouGov   \n",
       "56            stricter-gun-laws   3/1/18   3/5/18      Morning Consult   \n",
       "\n",
       "           Population  Support  Republican Support  Democratic Support  \\\n",
       "0   Registered Voters       72                  61                  86   \n",
       "1              Adults       82                  72                  92   \n",
       "2              Adults       67                  59                  76   \n",
       "3   Registered Voters       84                  77                  92   \n",
       "4   Registered Voters       78                  63                  93   \n",
       "5   Registered Voters       72                  65                  80   \n",
       "6   Registered Voters       76                  72                  86   \n",
       "7   Registered Voters       41                  69                  20   \n",
       "8              Adults       44                  68                  20   \n",
       "9              Adults       43                  71                  24   \n",
       "10             Adults       41                  68                  18   \n",
       "11  Registered Voters       40                  77                  10   \n",
       "12  Registered Voters       43                  80                  11   \n",
       "13  Registered Voters       97                  97                  99   \n",
       "14  Registered Voters       85                  78                  87   \n",
       "15  Registered Voters       83                  76                  91   \n",
       "16  Registered Voters       88                  88                  90   \n",
       "17             Adults       75                  66                  86   \n",
       "18             Adults       94                  89                  99   \n",
       "19  Registered Voters       90                  91                  91   \n",
       "20  Registered Voters       67                  43                  91   \n",
       "21  Registered Voters       61                  45                  79   \n",
       "22  Registered Voters       58                  37                  82   \n",
       "23  Registered Voters       69                  64                  81   \n",
       "24  Registered Voters       51                  29                  71   \n",
       "25  Registered Voters       57                  34                  80   \n",
       "26             Adults       53                  39                  66   \n",
       "27  Registered Voters       61                  43                  76   \n",
       "28  Registered Voters       63                  40                  83   \n",
       "29             Adults       72                  58                  88   \n",
       "30  Registered Voters       61                  38                  88   \n",
       "31  Registered Voters       68                  41                  83   \n",
       "32  Registered Voters       67                  52                  82   \n",
       "33  Registered Voters       64                  44                  82   \n",
       "34  Registered Voters       69                  63                  82   \n",
       "35  Registered Voters       64                  48                  82   \n",
       "36             Adults       73                  59                  88   \n",
       "37  Registered Voters       63                  39                  87   \n",
       "38  Registered Voters       71                  64                  84   \n",
       "39  Registered Voters       87                  87                  84   \n",
       "40  Registered Voters       84                  81                  86   \n",
       "41  Registered Voters       88                  89                  90   \n",
       "42  Registered Voters       76                  84                  78   \n",
       "43             Adults       92                  88                  96   \n",
       "44  Registered Voters       88                  91                  91   \n",
       "45  Registered Voters       10                   5                  15   \n",
       "46             Adults       75                  59                  92   \n",
       "47  Registered Voters       63                  43                  87   \n",
       "48  Registered Voters       70                  49                  93   \n",
       "49             Adults       65                  43                  85   \n",
       "50  Registered Voters       73                  55                  93   \n",
       "51  Registered Voters       58                  36                  76   \n",
       "52  Registered Voters       66                  34                  86   \n",
       "53  Registered Voters       68                  53                  89   \n",
       "54  Registered Voters       63                  39                  88   \n",
       "55  Registered Voters       61                  42                  82   \n",
       "56  Registered Voters       69                  57                  85   \n",
       "\n",
       "                                                  URL  \n",
       "0   http://cdn.cnn.com/cnn/2018/images/02/25/rel3a...  \n",
       "1   https://www.ipsos.com/en-us/npripsos-poll-majo...  \n",
       "2   http://www.rasmussenreports.com/public_content...  \n",
       "3   http://thehill.com/opinion/civil-rights/375993...  \n",
       "4   https://poll.qu.edu/national/release-detail?Re...  \n",
       "5   https://d25d2506sfb94s.cloudfront.net/cumulus_...  \n",
       "6   https://morningconsult.com/wp-content/uploads/...  \n",
       "7   http://big.assets.huffingtonpost.com/tabsHPSaf...  \n",
       "8   https://drive.google.com/file/d/0ByVu4fDHYJgVb...  \n",
       "9   http://www.rasmussenreports.com/public_content...  \n",
       "10  https://www.ipsos.com/en-us/npripsos-poll-majo...  \n",
       "11  https://poll.qu.edu/national/release-detail?Re...  \n",
       "12  https://www.nbcnews.com/politics/politics-news...  \n",
       "13  https://poll.qu.edu/images/polling/us/us022020...  \n",
       "14  https://d25d2506sfb94s.cloudfront.net/cumulus_...  \n",
       "15  https://d25d2506sfb94s.cloudfront.net/cumulus_...  \n",
       "16  https://morningconsult.com/wp-content/uploads/...  \n",
       "17  https://drive.google.com/file/d/0ByVu4fDHYJgVb...  \n",
       "18  https://www.ipsos.com/en-us/npripsos-poll-majo...  \n",
       "19  https://morningconsult.com/wp-content/uploads/...  \n",
       "20  https://poll.qu.edu/images/polling/us/us022020...  \n",
       "21  https://d25d2506sfb94s.cloudfront.net/cumulus_...  \n",
       "22  https://d25d2506sfb94s.cloudfront.net/cumulus_...  \n",
       "23  https://morningconsult.com/wp-content/uploads/...  \n",
       "24  https://www.washingtonpost.com/page/2010-2019/...  \n",
       "25  http://cdn.cnn.com/cnn/2018/images/02/25/rel3a...  \n",
       "26  https://drive.google.com/file/d/0ByVu4fDHYJgVb...  \n",
       "27  http://harvardharrispoll.com/wp-content/upload...  \n",
       "28  http://www.suffolk.edu/documents/SUPRC/3_1_201...  \n",
       "29  https://www.ipsos.com/en-us/npripsos-poll-majo...  \n",
       "30  https://poll.qu.edu/national/release-detail?Re...  \n",
       "31  https://morningconsult.com/wp-content/uploads/...  \n",
       "32  https://d25d2506sfb94s.cloudfront.net/cumulus_...  \n",
       "33  https://d25d2506sfb94s.cloudfront.net/cumulus_...  \n",
       "34  https://morningconsult.com/wp-content/uploads/...  \n",
       "35  http://cdn.cnn.com/cnn/2018/images/02/25/rel3a...  \n",
       "36  https://www.ipsos.com/en-us/npripsos-poll-majo...  \n",
       "37  https://poll.qu.edu/national/release-detail?Re...  \n",
       "38  https://morningconsult.com/wp-content/uploads/...  \n",
       "39  https://d25d2506sfb94s.cloudfront.net/cumulus_...  \n",
       "40  https://d25d2506sfb94s.cloudfront.net/cumulus_...  \n",
       "41  https://morningconsult.com/wp-content/uploads/...  \n",
       "42  http://www.suffolk.edu/documents/SUPRC/3_1_201...  \n",
       "43  https://www.ipsos.com/en-us/npripsos-poll-majo...  \n",
       "44  https://morningconsult.com/wp-content/uploads/...  \n",
       "45  http://cdn.cnn.com/cnn/2018/images/02/25/rel3a...  \n",
       "46  https://www.ipsos.com/en-us/npripsos-poll-majo...  \n",
       "47  https://d25d2506sfb94s.cloudfront.net/cumulus_...  \n",
       "48  http://cdn.cnn.com/cnn/2018/images/02/25/rel3a...  \n",
       "49  https://drive.google.com/file/d/0ByVu4fDHYJgVb...  \n",
       "50  http://maristpoll.marist.edu/wp-content/misc/u...  \n",
       "51  https://d25d2506sfb94s.cloudfront.net/cumulus_...  \n",
       "52  https://poll.qu.edu/images/polling/us/us022020...  \n",
       "53  https://morningconsult.com/wp-content/uploads/...  \n",
       "54  https://poll.qu.edu/national/release-detail?Re...  \n",
       "55  https://d25d2506sfb94s.cloudfront.net/cumulus_...  \n",
       "56  https://morningconsult.com/wp-content/uploads/...  "
      ]
     },
     "execution_count": 4,
     "metadata": {},
     "output_type": "execute_result"
    }
   ],
   "source": [
    "df"
   ]
  },
  {
   "cell_type": "code",
   "execution_count": 5,
   "metadata": {},
   "outputs": [],
   "source": [
    "FILEPATH2 = \"scores.csv\"\n",
    "\n",
    "gdf = pd.read_csv(FILEPATH2)"
   ]
  },
  {
   "cell_type": "code",
   "execution_count": 87,
   "metadata": {},
   "outputs": [],
   "source": [
    "#gdf"
   ]
  },
  {
   "cell_type": "code",
   "execution_count": 7,
   "metadata": {},
   "outputs": [],
   "source": [
    "# FILEPATH3 = \"Sept18/Sept18public.sav\"\n",
    "\n",
    "# pdf = pd.read_sav(FILEPATH3)"
   ]
  },
  {
   "cell_type": "code",
   "execution_count": 8,
   "metadata": {},
   "outputs": [],
   "source": [
    "FILEPATH4 = \"congress-trump-score/averages.csv\"\n",
    "\n",
    "ctdf = pd.read_csv(FILEPATH4)"
   ]
  },
  {
   "cell_type": "code",
   "execution_count": 84,
   "metadata": {},
   "outputs": [],
   "source": [
    "#ctdf"
   ]
  },
  {
   "cell_type": "code",
   "execution_count": null,
   "metadata": {},
   "outputs": [],
   "source": []
  },
  {
   "cell_type": "code",
   "execution_count": 10,
   "metadata": {},
   "outputs": [],
   "source": [
    "FILEPATH5 = \"100167-V16/Fall-2015-NSEE/F2015-NSEE-pud.csv\"\n",
    "\n",
    "edf = pd.read_csv(FILEPATH5)"
   ]
  },
  {
   "cell_type": "code",
   "execution_count": 85,
   "metadata": {},
   "outputs": [],
   "source": [
    "#edf"
   ]
  },
  {
   "cell_type": "code",
   "execution_count": 12,
   "metadata": {},
   "outputs": [],
   "source": [
    "import matplotlib.pyplot as plt"
   ]
  },
  {
   "cell_type": "code",
   "execution_count": 86,
   "metadata": {},
   "outputs": [],
   "source": [
    "#df[(df[\"Support\"] > 90)].Question.hist(bins = 16)"
   ]
  },
  {
   "cell_type": "code",
   "execution_count": 14,
   "metadata": {},
   "outputs": [
    {
     "name": "stderr",
     "output_type": "stream",
     "text": [
      "/anaconda3/lib/python3.7/site-packages/scipy/stats/stats.py:1713: FutureWarning: Using a non-tuple sequence for multidimensional indexing is deprecated; use `arr[tuple(seq)]` instead of `arr[seq]`. In the future this will be interpreted as an array index, `arr[np.array(seq)]`, which will result either in an error or a different result.\n",
      "  return np.add.reduce(sorted[indexer] * weights, axis=axis) / sumval\n"
     ]
    },
    {
     "data": {
      "text/plain": [
       "<matplotlib.axes._subplots.AxesSubplot at 0x1a22398c88>"
      ]
     },
     "execution_count": 14,
     "metadata": {},
     "output_type": "execute_result"
    },
    {
     "data": {
      "image/png": "[encoded data removed]",
      "text/plain": [
       "<Figure size 432x288 with 1 Axes>"
      ]
     },
     "metadata": {},
     "output_type": "display_data"
    }
   ],
   "source": [
    "sns.distplot(df['Support'].dropna(), hist=True,kde=True,bins=20)"
   ]
  },
  {
   "cell_type": "code",
   "execution_count": 15,
   "metadata": {},
   "outputs": [
    {
     "data": {
      "text/plain": [
       "<matplotlib.axes._subplots.AxesSubplot at 0x1a22a0b940>"
      ]
     },
     "execution_count": 15,
     "metadata": {},
     "output_type": "execute_result"
    },
    {
     "data": {
      "image/png": "[encoded data removed]",
      "text/plain": [
       "<Figure size 432x288 with 1 Axes>"
      ]
     },
     "metadata": {},
     "output_type": "display_data"
    }
   ],
   "source": [
    "sns.distplot(df['Support'].dropna(), hist=True,kde=True,bins=16)"
   ]
  },
  {
   "cell_type": "code",
   "execution_count": 16,
   "metadata": {},
   "outputs": [],
   "source": [
    "BINS = [0.00, 10.00, 20.00, 30.00, 400.00, 50.00, 60.00, 70.00, 80.00, 90.00, 100, np.inf]\n",
    "LABELS = [\"<10%\", \"10-20%\", \"20-30%\", \"30-40%\", \"40-50%\", \"50-60%\", \"60-70%\", \"70-80%\", \"80-90%\", \"90-100%\"]"
   ]
  },
  {
   "cell_type": "code",
   "execution_count": 17,
   "metadata": {},
   "outputs": [],
   "source": [
    "# freqs = pd.cut(df[\"Question\"], BINS, include_lowest=True, labels=LABELS)\n",
    "# sns.barplot(y=freqs.value_counts().values, x=freqs.value_counts().index)"
   ]
  },
  {
   "cell_type": "code",
   "execution_count": 18,
   "metadata": {},
   "outputs": [
    {
     "data": {
      "text/plain": [
       "<matplotlib.axes._subplots.AxesSubplot at 0x1a22abfdd8>"
      ]
     },
     "execution_count": 18,
     "metadata": {},
     "output_type": "execute_result"
    },
    {
     "data": {
      "image/png": "[encoded data removed]",
      "text/plain": [
       "<Figure size 432x288 with 1 Axes>"
      ]
     },
     "metadata": {},
     "output_type": "display_data"
    }
   ],
   "source": [
    "sns.distplot(df[\"Support\"], hist=True, kde=True, bins=40)"
   ]
  },
  {
   "cell_type": "code",
   "execution_count": 88,
   "metadata": {},
   "outputs": [],
   "source": [
    "#cdf = sns.distplot(df['Support'].dropna(), hist_kws=dict(cumulative=True),kde_kws=dict(cumulative=True))"
   ]
  },
  {
   "cell_type": "code",
   "execution_count": 20,
   "metadata": {},
   "outputs": [],
   "source": [
    "files = \"priority.csv\""
   ]
  },
  {
   "cell_type": "code",
   "execution_count": 21,
   "metadata": {},
   "outputs": [],
   "source": [
    "pds = pd.read_csv(files)"
   ]
  },
  {
   "cell_type": "code",
   "execution_count": 89,
   "metadata": {},
   "outputs": [],
   "source": [
    "#pds"
   ]
  },
  {
   "cell_type": "code",
   "execution_count": 23,
   "metadata": {},
   "outputs": [],
   "source": [
    "v16file = \"2016voter/voter16.csv\""
   ]
  },
  {
   "cell_type": "code",
   "execution_count": 24,
   "metadata": {},
   "outputs": [],
   "source": [
    "v16 = pd.read_csv(v16file)"
   ]
  },
  {
   "cell_type": "code",
   "execution_count": 90,
   "metadata": {},
   "outputs": [],
   "source": [
    "#v16"
   ]
  },
  {
   "cell_type": "code",
   "execution_count": 26,
   "metadata": {},
   "outputs": [
    {
     "name": "stderr",
     "output_type": "stream",
     "text": [
      "/anaconda3/lib/python3.7/site-packages/IPython/core/interactiveshell.py:3020: DtypeWarning: Columns (69,78) have mixed types. Specify dtype option on import or set low_memory=False.\n",
      "  interactivity=interactivity, compiler=compiler, result=result)\n"
     ]
    }
   ],
   "source": [
    "FILEhope = \"anes_pilot_2018.csv\"\n",
    "\n",
    "hdf = pd.read_csv(FILEhope)"
   ]
  },
  {
   "cell_type": "code",
   "execution_count": 91,
   "metadata": {},
   "outputs": [],
   "source": [
    "#hdf"
   ]
  },
  {
   "cell_type": "code",
   "execution_count": 59,
   "metadata": {},
   "outputs": [],
   "source": [
    "#df['Question'].value_counts().plot(kind='barh').invert_yaxis()"
   ]
  },
  {
   "cell_type": "code",
   "execution_count": 60,
   "metadata": {},
   "outputs": [],
   "source": [
    "# df[(df[\"Support\"] > 70)].Question.hist(bins = 16)\n",
    "# df[(df[\"Support\"] < 70)].Question.hist(bins = 16)"
   ]
  },
  {
   "cell_type": "code",
   "execution_count": 61,
   "metadata": {},
   "outputs": [],
   "source": [
    "#df[(df[\"Question\"] == \"repeal-2nd-amendment\")].Support.hist(bins = 10)"
   ]
  },
  {
   "cell_type": "code",
   "execution_count": null,
   "metadata": {},
   "outputs": [],
   "source": []
  },
  {
   "cell_type": "code",
   "execution_count": 98,
   "metadata": {},
   "outputs": [],
   "source": [
    "#sns.barplot(x=\"Democratic Support\",y=\"Republican Support\",hue=\"Question\",data=df)"
   ]
  },
  {
   "cell_type": "code",
   "execution_count": 33,
   "metadata": {},
   "outputs": [
    {
     "data": {
      "text/plain": [
       "<matplotlib.axes._subplots.AxesSubplot at 0x1a2810ada0>"
      ]
     },
     "execution_count": 33,
     "metadata": {},
     "output_type": "execute_result"
    },
    {
     "data": {
      "image/png": "[encoded data removed]",
      "text/plain": [
       "<Figure size 432x288 with 1 Axes>"
      ]
     },
     "metadata": {},
     "output_type": "display_data"
    }
   ],
   "source": [
    "sns.barplot(x=\"Question\",y=\"Support\",hue=\"Population\",data=df)"
   ]
  },
  {
   "cell_type": "code",
   "execution_count": 34,
   "metadata": {},
   "outputs": [
    {
     "name": "stderr",
     "output_type": "stream",
     "text": [
      "'c' argument looks like a single numeric RGB or RGBA sequence, which should be avoided as value-mapping will have precedence in case its length matches with 'x' & 'y'.  Please use a 2-D array with a single row if you really want to specify the same RGB or RGBA value for all points.\n"
     ]
    },
    {
     "data": {
      "text/plain": [
       "<matplotlib.axes._subplots.AxesSubplot at 0x1a2829e710>"
      ]
     },
     "execution_count": 34,
     "metadata": {},
     "output_type": "execute_result"
    },
    {
     "data": {
      "image/png": "[encoded data removed]",
      "text/plain": [
       "<Figure size 432x288 with 1 Axes>"
      ]
     },
     "metadata": {},
     "output_type": "display_data"
    }
   ],
   "source": [
    "df.plot.scatter(x=\"Republican Support\",y=\"Democratic Support\")"
   ]
  },
  {
   "cell_type": "code",
   "execution_count": 35,
   "metadata": {},
   "outputs": [
    {
     "name": "stderr",
     "output_type": "stream",
     "text": [
      "'c' argument looks like a single numeric RGB or RGBA sequence, which should be avoided as value-mapping will have precedence in case its length matches with 'x' & 'y'.  Please use a 2-D array with a single row if you really want to specify the same RGB or RGBA value for all points.\n"
     ]
    },
    {
     "data": {
      "text/plain": [
       "<matplotlib.axes._subplots.AxesSubplot at 0x1a283dd550>"
      ]
     },
     "execution_count": 35,
     "metadata": {},
     "output_type": "execute_result"
    },
    {
     "data": {
      "image/png": "[encoded data removed]",
      "text/plain": [
       "<Figure size 432x288 with 1 Axes>"
      ]
     },
     "metadata": {},
     "output_type": "display_data"
    }
   ],
   "source": [
    "df.plot.scatter(x=\"Democratic Support\",y=\"Republican Support\")"
   ]
  },
  {
   "cell_type": "code",
   "execution_count": 36,
   "metadata": {},
   "outputs": [
    {
     "data": {
      "text/plain": [
       "<matplotlib.axes._subplots.AxesSubplot at 0x1a2847f710>"
      ]
     },
     "execution_count": 36,
     "metadata": {},
     "output_type": "execute_result"
    },
    {
     "data": {
      "image/png": "[encoded data removed]",
      "text/plain": [
       "<Figure size 432x288 with 1 Axes>"
      ]
     },
     "metadata": {},
     "output_type": "display_data"
    }
   ],
   "source": [
    "sns.distplot(df['Democratic Support'].dropna(), hist=True,kde=True,bins=20)"
   ]
  },
  {
   "cell_type": "code",
   "execution_count": 37,
   "metadata": {},
   "outputs": [
    {
     "data": {
      "text/plain": [
       "<matplotlib.axes._subplots.AxesSubplot at 0x1a29d41b38>"
      ]
     },
     "execution_count": 37,
     "metadata": {},
     "output_type": "execute_result"
    },
    {
     "data": {
      "image/png": "[encoded data removed]",
      "text/plain": [
       "<Figure size 432x288 with 1 Axes>"
      ]
     },
     "metadata": {},
     "output_type": "display_data"
    }
   ],
   "source": [
    "sns.distplot(df['Republican Support'].dropna(), hist=True,kde=True,bins=20)"
   ]
  },
  {
   "cell_type": "code",
   "execution_count": 38,
   "metadata": {},
   "outputs": [
    {
     "data": {
      "text/plain": [
       "<matplotlib.axes._subplots.AxesSubplot at 0x1a29d934e0>"
      ]
     },
     "execution_count": 38,
     "metadata": {},
     "output_type": "execute_result"
    },
    {
     "data": {
      "image/png": "[encoded data removed]",
      "text/plain": [
       "<Figure size 432x288 with 1 Axes>"
      ]
     },
     "metadata": {},
     "output_type": "display_data"
    }
   ],
   "source": [
    "sns.distplot(df['Support'].dropna(), hist=True,kde=True,bins=20)"
   ]
  },
  {
   "cell_type": "code",
   "execution_count": 39,
   "metadata": {},
   "outputs": [
    {
     "data": {
      "image/png": "[encoded data removed]",
      "text/plain": [
       "<Figure size 432x288 with 1 Axes>"
      ]
     },
     "metadata": {},
     "output_type": "display_data"
    }
   ],
   "source": [
    "cdf = sns.distplot(df['Support'].dropna(), hist_kws=dict(cumulative=True),kde_kws=dict(cumulative=True))"
   ]
  },
  {
   "cell_type": "code",
   "execution_count": 40,
   "metadata": {},
   "outputs": [
    {
     "data": {
      "image/png": "[encoded data removed]",
      "text/plain": [
       "<Figure size 432x288 with 1 Axes>"
      ]
     },
     "metadata": {},
     "output_type": "display_data"
    }
   ],
   "source": [
    "cdf = sns.distplot(df['Democratic Support'].dropna(), hist_kws=dict(cumulative=True),kde_kws=dict(cumulative=True))"
   ]
  },
  {
   "cell_type": "code",
   "execution_count": 41,
   "metadata": {},
   "outputs": [
    {
     "data": {
      "image/png": "[encoded data removed]",
      "text/plain": [
       "<Figure size 432x288 with 1 Axes>"
      ]
     },
     "metadata": {},
     "output_type": "display_data"
    }
   ],
   "source": [
    "cdf = sns.distplot(df['Republican Support'].dropna(), hist_kws=dict(cumulative=True),kde_kws=dict(cumulative=True))"
   ]
  },
  {
   "cell_type": "code",
   "execution_count": 42,
   "metadata": {},
   "outputs": [
    {
     "data": {
      "image/png": "[encoded data removed]",
      "text/plain": [
       "<Figure size 432x288 with 1 Axes>"
      ]
     },
     "metadata": {},
     "output_type": "display_data"
    }
   ],
   "source": [
    "df['Support'].hist(bins=10)\n",
    "plt.show()"
   ]
  },
  {
   "cell_type": "code",
   "execution_count": 43,
   "metadata": {},
   "outputs": [
    {
     "data": {
      "image/png": "[encoded data removed]",
      "text/plain": [
       "<Figure size 432x288 with 1 Axes>"
      ]
     },
     "metadata": {},
     "output_type": "display_data"
    }
   ],
   "source": [
    "df['Democratic Support'].hist(bins=10)\n",
    "plt.show()"
   ]
  },
  {
   "cell_type": "code",
   "execution_count": 44,
   "metadata": {},
   "outputs": [
    {
     "data": {
      "image/png": "[encoded data removed]",
      "text/plain": [
       "<Figure size 432x288 with 1 Axes>"
      ]
     },
     "metadata": {},
     "output_type": "display_data"
    }
   ],
   "source": [
    "df['Republican Support'].hist(bins=10)\n",
    "plt.show()"
   ]
  },
  {
   "cell_type": "code",
   "execution_count": 96,
   "metadata": {},
   "outputs": [],
   "source": [
    "#pd.crosstab(df['Democratic Support'],df['Question']).plot(kind=\"bar\",stacked=True)"
   ]
  },
  {
   "cell_type": "code",
   "execution_count": 46,
   "metadata": {},
   "outputs": [],
   "source": [
    "# sns.countplot(x=\"Support\", hue=\"Question\", data=df[df[\"Question\"] == \"age-21\"], palette=\"winter\", alpha=1)\n",
    "# sns.countplot(x=\"Support\", hue=\"Question\", data=df[df[\"Question\"] == \"arm-teachers\"], palette=\"spring\", alpha=1)\n",
    "# sns.countplot(x=\"Support\", hue=\"Question\", data=df[df[\"Question\"] == \"background-checks\"], palette=\"autumn\", alpha=1)\n",
    "# sns.countplot(x=\"Support\", hue=\"Question\", data=df[df[\"Question\"] == \"ban-assault-weapons\"], palette=\"summer\", alpha=1)"
   ]
  },
  {
   "cell_type": "code",
   "execution_count": 47,
   "metadata": {},
   "outputs": [],
   "source": [
    "# sns.barplot(x=\"Population\",y=\"Support\",hue=\"Question\",data=df[df[\"Question\"] == \"age-21\"])\n",
    "# sns.barplot(x=\"Population\",y=\"Support\",hue=\"Question\",data=df[df[\"Question\"] == \"arm-teachers\"])\n",
    "# sns.barplot(x=\"Population\",y=\"Support\",hue=\"Question\",data=df[df[\"Question\"] == \"background-checks\"])\n",
    "# sns.barplot(x=\"Population\",y=\"Support\",hue=\"Question\",data=df[df[\"Question\"] == \"ban-assault-weapons\"])"
   ]
  },
  {
   "cell_type": "code",
   "execution_count": 48,
   "metadata": {},
   "outputs": [],
   "source": [
    "# df[df['Support'] > 70].groupby('Question')['Support'].hist(bins=16)"
   ]
  },
  {
   "cell_type": "code",
   "execution_count": 49,
   "metadata": {},
   "outputs": [
    {
     "data": {
      "text/plain": [
       "<matplotlib.axes._subplots.AxesSubplot at 0x1a2a44ba58>"
      ]
     },
     "execution_count": 49,
     "metadata": {},
     "output_type": "execute_result"
    },
    {
     "data": {
      "image/png": "[encoded data removed]",
      "text/plain": [
       "<Figure size 432x288 with 1 Axes>"
      ]
     },
     "metadata": {},
     "output_type": "display_data"
    }
   ],
   "source": [
    "df['Support'].plot.box()"
   ]
  },
  {
   "cell_type": "code",
   "execution_count": 50,
   "metadata": {},
   "outputs": [],
   "source": [
    "# df[(df[\"Question\"] == \"age-21\")].Support.hist(bins = 16)\n",
    "# df[(df[\"Question\"] == \"arm-teachers\")].Support.hist(bins = 16)"
   ]
  },
  {
   "cell_type": "code",
   "execution_count": 51,
   "metadata": {},
   "outputs": [
    {
     "data": {
      "text/plain": [
       "Support               75.857143\n",
       "Republican Support    67.000000\n",
       "Democratic Support    86.428571\n",
       "dtype: float64"
      ]
     },
     "execution_count": 51,
     "metadata": {},
     "output_type": "execute_result"
    }
   ],
   "source": [
    "df[(df[\"Question\"] == \"age-21\")].mean()"
   ]
  },
  {
   "cell_type": "code",
   "execution_count": 52,
   "metadata": {},
   "outputs": [
    {
     "data": {
      "text/plain": [
       "Support               42.000000\n",
       "Republican Support    72.166667\n",
       "Democratic Support    17.166667\n",
       "dtype: float64"
      ]
     },
     "execution_count": 52,
     "metadata": {},
     "output_type": "execute_result"
    }
   ],
   "source": [
    "df[(df[\"Question\"] == \"arm-teachers\")].mean()"
   ]
  },
  {
   "cell_type": "code",
   "execution_count": 53,
   "metadata": {},
   "outputs": [
    {
     "data": {
      "text/plain": [
       "Support               10.0\n",
       "Republican Support     5.0\n",
       "Democratic Support    15.0\n",
       "dtype: float64"
      ]
     },
     "execution_count": 53,
     "metadata": {},
     "output_type": "execute_result"
    }
   ],
   "source": [
    "df[(df[\"Question\"] == \"repeal-2nd-amendment\")].mean()"
   ]
  },
  {
   "cell_type": "code",
   "execution_count": 54,
   "metadata": {},
   "outputs": [
    {
     "data": {
      "text/plain": [
       "Support               61.750000\n",
       "Republican Support    42.583333\n",
       "Democratic Support    80.666667\n",
       "dtype: float64"
      ]
     },
     "execution_count": 54,
     "metadata": {},
     "output_type": "execute_result"
    }
   ],
   "source": [
    "df[(df[\"Question\"] == \"ban-assault-weapons\")].mean()"
   ]
  },
  {
   "cell_type": "code",
   "execution_count": 55,
   "metadata": {},
   "outputs": [
    {
     "data": {
      "text/plain": [
       "Support               87.428571\n",
       "Republican Support    83.571429\n",
       "Democratic Support    91.857143\n",
       "dtype: float64"
      ]
     },
     "execution_count": 55,
     "metadata": {},
     "output_type": "execute_result"
    }
   ],
   "source": [
    "df[(df[\"Question\"] == \"background-checks\")].mean()"
   ]
  },
  {
   "cell_type": "code",
   "execution_count": 83,
   "metadata": {},
   "outputs": [
    {
     "data": {
      "text/plain": [
       "0.5277777777777778"
      ]
     },
     "execution_count": 83,
     "metadata": {},
     "output_type": "execute_result"
    }
   ],
   "source": [
    "228/(228+198+6) #Percentage of congress who voted on background checks"
   ]
  },
  {
   "cell_type": "code",
   "execution_count": 82,
   "metadata": {},
   "outputs": [
    {
     "data": {
      "text/plain": [
       "Support               85.833333\n",
       "Republican Support    86.666667\n",
       "Democratic Support    87.500000\n",
       "dtype: float64"
      ]
     },
     "execution_count": 82,
     "metadata": {},
     "output_type": "execute_result"
    }
   ],
   "source": [
    "df[(df[\"Question\"] == \"mental-health-own-gun\")].mean()"
   ]
  },
  {
   "cell_type": "code",
   "execution_count": 58,
   "metadata": {},
   "outputs": [
    {
     "data": {
      "text/plain": [
       "Support               67.285714\n",
       "Republican Support    52.714286\n",
       "Democratic Support    83.857143\n",
       "dtype: float64"
      ]
     },
     "execution_count": 58,
     "metadata": {},
     "output_type": "execute_result"
    }
   ],
   "source": [
    "df[(df[\"Question\"] == \"ban-high-capacity-magazines\")].mean()"
   ]
  },
  {
   "cell_type": "code",
   "execution_count": 64,
   "metadata": {},
   "outputs": [
    {
     "data": {
      "text/plain": [
       "Support               66.454545\n",
       "Republican Support    46.363636\n",
       "Democratic Support    86.909091\n",
       "dtype: float64"
      ]
     },
     "execution_count": 64,
     "metadata": {},
     "output_type": "execute_result"
    }
   ],
   "source": [
    "df[(df[\"Question\"] == \"stricter-gun-laws\")].mean()"
   ]
  },
  {
   "cell_type": "code",
   "execution_count": null,
   "metadata": {},
   "outputs": [],
   "source": []
  },
  {
   "cell_type": "code",
   "execution_count": null,
   "metadata": {},
   "outputs": [],
   "source": []
  },
  {
   "cell_type": "code",
   "execution_count": null,
   "metadata": {},
   "outputs": [],
   "source": []
  },
  {
   "cell_type": "code",
   "execution_count": null,
   "metadata": {},
   "outputs": [],
   "source": []
  }
 ],
 "metadata": {
  "kernelspec": {
   "display_name": "Python 3",
   "language": "python",
   "name": "python3"
  },
  "language_info": {
   "codemirror_mode": {
    "name": "ipython",
    "version": 3
   },
   "file_extension": ".py",
   "mimetype": "text/x-python",
   "name": "python",
   "nbconvert_exporter": "python",
   "pygments_lexer": "ipython3",
   "version": "3.7.1"
  }
 },
 "nbformat": 4,
 "nbformat_minor": 2
}
